{
 "cells": [
  {
   "cell_type": "code",
   "execution_count": 1,
   "id": "6f547ae8-95dd-4485-a1a0-f95a09c2a0b1",
   "metadata": {},
   "outputs": [],
   "source": [
    "from pyCATHY import cathy_tools\n",
    "from pyCATHY.plotters import cathy_plots as cplt\n",
    "import pyvista as pv\n",
    "import os"
   ]
  },
  {
   "cell_type": "code",
   "execution_count": 2,
   "id": "50e04880-0e1b-4195-8e47-2f2d61fd5420",
   "metadata": {},
   "outputs": [
    {
     "data": {
      "text/html": [
       "<pre style=\"white-space:pre;overflow-x:auto;line-height:normal;font-family:Menlo,'DejaVu Sans Mono',consolas,'Courier New',monospace\">🏁 <span style=\"font-weight: bold\">Initiate CATHY object</span>\n",
       "</pre>\n"
      ],
      "text/plain": [
       "🏁 \u001b[1mInitiate CATHY object\u001b[0m\n"
      ]
     },
     "metadata": {},
     "output_type": "display_data"
    }
   ],
   "source": [
    "path2prj = \".\"  # add your local path here\n",
    "Simu1 = cathy_tools.CATHY(dirName=path2prj,\n",
    "                          prj_name=\"simu1\"\n",
    "                        )"
   ]
  },
  {
   "cell_type": "code",
   "execution_count": 3,
   "id": "65aa1b0c-1f32-44c7-b989-b5e1b73d90fb",
   "metadata": {},
   "outputs": [
    {
     "data": {
      "text/html": [
       "<pre style=\"white-space:pre;overflow-x:auto;line-height:normal;font-family:Menlo,'DejaVu Sans Mono',consolas,'Courier New',monospace\">🏁 <span style=\"font-weight: bold\">Initiate CATHY object</span>\n",
       "</pre>\n"
      ],
      "text/plain": [
       "🏁 \u001b[1mInitiate CATHY object\u001b[0m\n"
      ]
     },
     "metadata": {},
     "output_type": "display_data"
    }
   ],
   "source": [
    "path2prj = \".\"  # add your local path here\n",
    "simu2 = cathy_tools.CATHY(dirName=path2prj,\n",
    "                          prj_name=\"simu2\"\n",
    "                        )"
   ]
  },
  {
   "cell_type": "code",
   "execution_count": 4,
   "id": "cd0a99f1-4c1e-499c-a872-173d80c49dcd",
   "metadata": {},
   "outputs": [],
   "source": [
    "#Bousval.create_mesh_vtk()"
   ]
  },
  {
   "cell_type": "code",
   "execution_count": 5,
   "id": "eda14bf6-d2cb-4b7f-9b99-c3e1c33263a0",
   "metadata": {},
   "outputs": [
    {
     "data": {
      "text/html": [
       "<pre style=\"white-space:pre;overflow-x:auto;line-height:normal;font-family:Menlo,'DejaVu Sans Mono',consolas,'Courier New',monospace\">🍳 <span style=\"font-weight: bold\">gfortran compilation</span>\n",
       "</pre>\n"
      ],
      "text/plain": [
       "🍳 \u001b[1mgfortran compilation\u001b[0m\n"
      ]
     },
     "metadata": {},
     "output_type": "display_data"
    },
    {
     "data": {
      "text/html": [
       "<pre style=\"white-space:pre;overflow-x:auto;line-height:normal;font-family:Menlo,'DejaVu Sans Mono',consolas,'Courier New',monospace\">👟 <span style=\"font-weight: bold\">Run preprocessor</span>\n",
       "</pre>\n"
      ],
      "text/plain": [
       "👟 \u001b[1mRun preprocessor\u001b[0m\n"
      ]
     },
     "metadata": {},
     "output_type": "display_data"
    }
   ],
   "source": [
    "#Simu1.run_preprocessor(verbose=False)"
   ]
  },
  {
   "cell_type": "code",
   "execution_count": 8,
   "id": "f60465d0-11e3-410a-a579-32a59423562e",
   "metadata": {},
   "outputs": [
    {
     "ename": "ValueError",
     "evalue": "could not convert string to float: 'IVGHU\\n'",
     "output_type": "error",
     "traceback": [
      "\u001b[0;31m---------------------------------------------------------------------------\u001b[0m",
      "\u001b[0;31mValueError\u001b[0m                                Traceback (most recent call last)",
      "Cell \u001b[0;32mIn[8], line 1\u001b[0m\n\u001b[0;32m----> 1\u001b[0m soil \u001b[38;5;241m=\u001b[39m Simu1\u001b[38;5;241m.\u001b[39mread_inputs(\u001b[38;5;124m'\u001b[39m\u001b[38;5;124msoil\u001b[39m\u001b[38;5;124m'\u001b[39m,MAXVEG\u001b[38;5;241m=\u001b[39m\u001b[38;5;241m2\u001b[39m)\n",
      "File \u001b[0;32m~/Nextcloud/BenCSIC/Codes/BenjMy/pycathy_wrapper/pyCATHY/cathy_tools.py:3920\u001b[0m, in \u001b[0;36mCATHY.read_inputs\u001b[0;34m(self, filename, **kwargs)\u001b[0m\n\u001b[1;32m   3917\u001b[0m \u001b[38;5;28;01melse\u001b[39;00m:\n\u001b[1;32m   3918\u001b[0m     MAXVEG \u001b[38;5;241m=\u001b[39m \u001b[38;5;28mself\u001b[39m\u001b[38;5;241m.\u001b[39mMAXVEG\n\u001b[0;32m-> 3920\u001b[0m df \u001b[38;5;241m=\u001b[39m in_CT\u001b[38;5;241m.\u001b[39mread_soil(\n\u001b[1;32m   3921\u001b[0m     os\u001b[38;5;241m.\u001b[39mpath\u001b[38;5;241m.\u001b[39mjoin(\u001b[38;5;28mself\u001b[39m\u001b[38;5;241m.\u001b[39mworkdir, \u001b[38;5;28mself\u001b[39m\u001b[38;5;241m.\u001b[39mproject_name, \u001b[38;5;124m\"\u001b[39m\u001b[38;5;124minput\u001b[39m\u001b[38;5;124m\"\u001b[39m, filename),\n\u001b[1;32m   3922\u001b[0m     dem_parm,\n\u001b[1;32m   3923\u001b[0m     MAXVEG\u001b[38;5;241m=\u001b[39mMAXVEG,\n\u001b[1;32m   3924\u001b[0m )\n\u001b[1;32m   3925\u001b[0m \u001b[38;5;66;03m# df[0]\u001b[39;00m\n\u001b[1;32m   3926\u001b[0m \u001b[38;5;28;01mreturn\u001b[39;00m df\n",
      "File \u001b[0;32m~/Nextcloud/BenCSIC/Codes/BenjMy/pycathy_wrapper/pyCATHY/importers/cathy_inputs.py:396\u001b[0m, in \u001b[0;36mread_soil\u001b[0;34m(soilfile, dem_parm, MAXVEG)\u001b[0m\n\u001b[1;32m    394\u001b[0m FP_soil_mat \u001b[38;5;241m=\u001b[39m []\n\u001b[1;32m    395\u001b[0m \u001b[38;5;28;01mfor\u001b[39;00m fp \u001b[38;5;129;01min\u001b[39;00m FP_soil:\n\u001b[0;32m--> 396\u001b[0m     FP_soil_mat\u001b[38;5;241m.\u001b[39mappend([\u001b[38;5;28mfloat\u001b[39m(fpi) \u001b[38;5;28;01mfor\u001b[39;00m fpi \u001b[38;5;129;01min\u001b[39;00m fp \u001b[38;5;28;01mif\u001b[39;00m \u001b[38;5;28mlen\u001b[39m(fpi)\u001b[38;5;241m>\u001b[39m\u001b[38;5;241m0\u001b[39m])\n\u001b[1;32m    398\u001b[0m FP_soil_mat \u001b[38;5;241m=\u001b[39m np\u001b[38;5;241m.\u001b[39marray(FP_soil_mat)\n\u001b[1;32m    399\u001b[0m df_FP \u001b[38;5;241m=\u001b[39m pd\u001b[38;5;241m.\u001b[39mDataFrame(FP_soil_mat)\n",
      "File \u001b[0;32m~/Nextcloud/BenCSIC/Codes/BenjMy/pycathy_wrapper/pyCATHY/importers/cathy_inputs.py:396\u001b[0m, in \u001b[0;36m<listcomp>\u001b[0;34m(.0)\u001b[0m\n\u001b[1;32m    394\u001b[0m FP_soil_mat \u001b[38;5;241m=\u001b[39m []\n\u001b[1;32m    395\u001b[0m \u001b[38;5;28;01mfor\u001b[39;00m fp \u001b[38;5;129;01min\u001b[39;00m FP_soil:\n\u001b[0;32m--> 396\u001b[0m     FP_soil_mat\u001b[38;5;241m.\u001b[39mappend([\u001b[38;5;28mfloat\u001b[39m(fpi) \u001b[38;5;28;01mfor\u001b[39;00m fpi \u001b[38;5;129;01min\u001b[39;00m fp \u001b[38;5;28;01mif\u001b[39;00m \u001b[38;5;28mlen\u001b[39m(fpi)\u001b[38;5;241m>\u001b[39m\u001b[38;5;241m0\u001b[39m])\n\u001b[1;32m    398\u001b[0m FP_soil_mat \u001b[38;5;241m=\u001b[39m np\u001b[38;5;241m.\u001b[39marray(FP_soil_mat)\n\u001b[1;32m    399\u001b[0m df_FP \u001b[38;5;241m=\u001b[39m pd\u001b[38;5;241m.\u001b[39mDataFrame(FP_soil_mat)\n",
      "\u001b[0;31mValueError\u001b[0m: could not convert string to float: 'IVGHU\\n'"
     ]
    }
   ],
   "source": [
    "#soil = Simu1.read_inputs('soil',MAXVEG=2)"
   ]
  },
  {
   "cell_type": "code",
   "execution_count": null,
   "id": "4c43092c-93f8-42b2-9d16-c075196c9180",
   "metadata": {},
   "outputs": [],
   "source": [
    "myold_vegmap = Simu1.update_veg_map()\n",
    "myold_vegmap"
   ]
  },
  {
   "cell_type": "code",
   "execution_count": null,
   "id": "080f8aac-103b-4546-a3fd-27b68863a757",
   "metadata": {},
   "outputs": [],
   "source": [
    "mynew_vegmap = myold_vegmap\n",
    "mynew_vegmap[0:int(len(myold_vegmap)/2),:] = 2\n",
    "mynew_vegmap"
   ]
  },
  {
   "cell_type": "code",
   "execution_count": null,
   "id": "0ad1d695-f8ea-4aa1-a9c6-474356a5fb5f",
   "metadata": {},
   "outputs": [],
   "source": [
    "Simu1.update_veg_map(mynew_vegmap,show=True)"
   ]
  },
  {
   "cell_type": "code",
   "execution_count": null,
   "id": "be593236-dd3c-4e57-a73e-36b955677154",
   "metadata": {},
   "outputs": [],
   "source": []
  },
  {
   "cell_type": "code",
   "execution_count": null,
   "id": "d347b30c-2fa7-4377-b2c7-7464d7b22694",
   "metadata": {},
   "outputs": [],
   "source": [
    "Simu1.update_soil()"
   ]
  },
  {
   "cell_type": "code",
   "execution_count": null,
   "id": "8ce06c9e-13f0-466b-b57e-e2ca416692f1",
   "metadata": {},
   "outputs": [],
   "source": [
    "Simu1.run_processor(IPRT1=2,\n",
    "                    DTMIN=1e-2,\n",
    "                    DTMAX=1e2,\n",
    "                    DELTAT=5,\n",
    "                    TRAFLAG=0,\n",
    "                    verbose=False\n",
    "                    )"
   ]
  },
  {
   "cell_type": "code",
   "execution_count": null,
   "id": "d97c5fad-688c-41ae-bbd7-ab37b15926bc",
   "metadata": {},
   "outputs": [],
   "source": [
    "pl = pv.Plotter(notebook=True)\n",
    "cplt.show_vtk(unit=\"pressure\",\n",
    "              timeStep=2,\n",
    "              path=os.path.join(Simu1.workdir, Simu1.project_name, 'vtk'),\n",
    "              ax=pl,\n",
    "               )\n",
    "pl.show()"
   ]
  }
 ],
 "metadata": {
  "kernelspec": {
   "display_name": "Python 3 (ipykernel)",
   "language": "python",
   "name": "python3"
  },
  "language_info": {
   "codemirror_mode": {
    "name": "ipython",
    "version": 3
   },
   "file_extension": ".py",
   "mimetype": "text/x-python",
   "name": "python",
   "nbconvert_exporter": "python",
   "pygments_lexer": "ipython3",
   "version": "3.11.8"
  }
 },
 "nbformat": 4,
 "nbformat_minor": 5
}
