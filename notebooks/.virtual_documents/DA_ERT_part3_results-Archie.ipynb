








import pyCATHY
from pyCATHY import cathy_tools
from pyCATHY.DA.cathy_DA import DA, dictObs_2pd
from pyCATHY.DA.perturbate import perturbate_parm
from pyCATHY.DA import perturbate
from pyCATHY.DA.observations import read_observations, prepare_observations, make_data_cov
from pyCATHY.DA import performance
from pyCATHY.ERT import petro_Archie as Archie
import pyCATHY.meshtools as cathy_meshtools
import pyvista as pv
import pyCATHY.plotters.cathy_plots as cplt 
import os 
import numpy as np
import matplotlib.pyplot as plt
import matplotlib as mpl
# set some default plotting parameters for nicer looking plots
mpl.rcParams.update({"axes.grid":True, 
                     "grid.color":"gray", 
                     "grid.linestyle":'--',
                     'figure.figsize':(6,6)}
                   )
import pandas as pd
import utils


import pygimli as pg 
from pygimli.physics import ert








simu_solution = cathy_tools.CATHY(
                                    dirName='./solution_ERT',
                                    prj_name= 'weill_dataset',
                                    notebook=True,
                                  )
sw_SOL, sw_SOL_times = simu_solution.read_outputs('sw')
psi_SOL = simu_solution.read_outputs('psi')

rootMap, rootMap_hd = simu_solution.read_inputs('root_map')

soil_SPP_SOL, soil_FP_SOL = simu_solution.read_inputs('soil',
                                                         MAXVEG=int(np.max(rootMap)),
                                                    )
PERMX_SOL = soil_SPP_SOL['PERMX'].unique()[0]
POROS_SOL = soil_SPP_SOL['POROS'].unique()[0]





pl = pv.Plotter(shape=(2, 2))
axis_pl = [(0,0),(0,1),(1,0),(1,1)]
for i, j in enumerate([0,2,5,10]):
    mesh = pv.read(os.path.join(simu_solution.workdir,
                                'solution_ERTsaturation_nearIntrp2_pg_msh' + str(j) + '.vtk',
                                )
    
           )
    pl.subplot(axis_pl[i][0],axis_pl[i][1])
    pl.add_mesh(mesh,
               scalars='saturation_nearIntrp2_pg_msh',
                lighting=False,
                cmap="jet_r"
               )
    pl.view_xz()
pl.show()











simuWithDA = DA(
                        dirName='./DA_ERT',
                        prj_name= 'Weill_example_withDA',
                        notebook=True,
                    )
simuWithoutDA = DA(
                        dirName='./DA_ERT',
                        prj_name= 'Weill_example_withoutDA',
                        notebook=True,
                    )


results_withDA = simuWithDA.load_pickle_backup()
results_withoutDA = simuWithoutDA.load_pickle_backup()


observations = dictObs_2pd(results_withDA['dict_obs'])
#observations.xs('ERT',0).iloc[0]['elecs']


tobs= observations.index.get_level_values(1).to_list()





os.getcwd()


meshCiPG_PGref = pv.read('./solution_ERT/meshCi.vtk')
meshLiPG_PGref = pv.read('./solution_ERT/meshLi.vtk')
(meshCiPG, meshLiPG) = utils.define_mesh_transformations(meshCiPG_PGref,
                                                      meshLiPG_PGref,
                                                      idC=10, 
                                                      idL=10,
                                                    )


pl = pv.Plotter()
pl.add_mesh(meshCiPG)
pl.add_mesh(meshLiPG)
#pl.add_mesh(meshCATHY,opacity=0.5)
pl.show_grid()
pl.show()


ERT_meta_dict_meshLi={
                'forward_mesh_vtk_file': './solution_ERT/meshLi.vtk',
                'mesh_nodes_modif': meshLiPG.points
}





sc = {}
rFluid_Archie = 1/(588*(1e-6/1e-2))
sc = {
    "POROS": [POROS_SOL],
    "rFluid_Archie": [rFluid_Archie],
    "a_Archie": [0.3],
    "m_Archie": [1.7],
    "n_Archie": [1.7],
    "pert_sigma_Archie": [0],
}





scheme = ert.createData(elecs=np.linspace(start=0, 
                                          stop=10, 
                                          num=21),
                           schemeName='dd')


meshLi = pg.load(ERT_meta_dict_meshLi['forward_mesh_vtk_file'])


sw_bef_update_withDA_ens1 = results_withDA['df_DA'].set_index(['time','Ensemble_nb'])['sw_bef_update_'].xs((1,0))


results_withDA_Archie = results_withDA['df_Archie'].set_index(['time','ens_nbi'])
#results_withDA_Archie





%%capture

for i in range(len(tobs)):
    rhomap = results_withDA_Archie.xs((i,0)).values
    data = ert.simulate(meshLi, 
                        scheme=scheme, 
                        res=rhomap, 
                        noiseLevel=1,
                        noiseAbs=1e-6, 
                        seed=1337
                        )
    data.save('DA_ERT/ERTsimuWithDA/ERT_Li_' + str(i) + '.data')





results_withDA.keys()


Archie = results_withDA['df_Archie']
Archie_ER = Archie.set_index(['time','ens_nbi'])
Archie_ER


Archie.time.unique()


meanArchie = Archie.groupby('time')['ER_converted'].mean()
minArchie = Archie.groupby('time')['ER_converted'].min()
maxArchie = Archie.groupby('time')['ER_converted'].max()
minArchie


fig, ax = plt.subplots()
minArchie.plot(ax=ax)
maxArchie.plot(ax=ax)
meanArchie.plot(ax=ax)
ax.set_xlabel('# Assimilation')
ax.set_ylabel('ER converted')






Archie['ER_converted']


metadata_ERT    = {
                    'data_type': '$ERT$', # units
                    'units': '$\Ohm$', # units transfer_resistances
                    'forward_mesh_vtk_file': '../solution_ERT/meshLi.vtk', # path to the ERT mesh (vtk file compatible with pygimli or resipy)
                    # 'sequenceERT': sequenceERT, # path to the ERT sequence  (file compatible with pygimli or resipy)
                    # 'instrument': 'Syscal', # Instrument
                    'data_format': 'pygimli', # format (raw or preprocessed)
                    'dataErr': 0.5, # error in %
                    'fwdNoiseLevel': 5, # error in %
                    #'mesh_nodes_modif': meshLiPG.points, 
        
                }


dict_obs = {}
for i, tt in enumerate(Archie.time.unique()):

    if i == 0:
        continue
    
    # .data file observation generated by pygimli
    filename = os.path.join(simu_solution.workdir,
                            'ERTsolution', 
                            'ERT_Li_' + str(i) + '.data'
                            )    
    data_measure = read_observations(
                                    dict_obs,
                                    filename, 
                                    data_type = 'ERT', 
                                    data_err = 0.5,
                                    show=True,
                                    tA=tt,
                                    obs_cov_type='data_err', #data_err
                                    meta=metadata_ERT,
                                    ) 
data_measure_df = dictObs_2pd(dict_obs) 


data_rhoa = data_measure_df.xs('ERT')['data']
data_rhoa.iloc[0].head()


fig, ax = plt.subplots() 
ax.scatter(data_rhoa.iloc[0]['rhoa'].values,
           Archie.groupby('ens_nbi')['ER_converted'].mean().values
          )
           
