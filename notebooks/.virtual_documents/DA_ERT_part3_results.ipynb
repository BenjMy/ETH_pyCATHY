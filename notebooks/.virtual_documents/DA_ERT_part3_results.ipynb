





import pyCATHY
from pyCATHY import cathy_tools
from pyCATHY.DA.cathy_DA import DA, dictObs_2pd
from pyCATHY.DA.perturbate import perturbate_parm
from pyCATHY.DA import perturbate
from pyCATHY.DA.observations import read_observations, prepare_observations, make_data_cov
from pyCATHY.DA import performance
import pyvista as pv
import pyCATHY.plotters.cathy_plots as cplt 
import os 
import numpy as np
import matplotlib.pyplot as plt
import matplotlib as mpl
# set some default plotting parameters for nicer looking plots
mpl.rcParams.update({"axes.grid":True, 
                     "grid.color":"gray", 
                     "grid.linestyle":'--',
                     'figure.figsize':(6,6)}
                   )
import pandas as pd
import utils


import pygimli as pg 
from pygimli.physics import ert








simu_solution = cathy_tools.CATHY(
                                    dirName='./solution_ERT',
                                    prj_name= 'weill_dataset',
                                    notebook=True,
                                  )
sw_SOL, sw_SOL_times = simu_solution.read_outputs('sw')
psi_SOL = simu_solution.read_outputs('psi')

rootMap, rootMap_hd = simu_solution.read_inputs('root_map')

soil_SPP_SOL, soil_FP_SOL = simu_solution.read_inputs('soil',
                                                         MAXVEG=int(np.max(rootMap)),
                                                    )
PERMX_SOL = soil_SPP_SOL['PERMX'].unique()[0]
POROS_SOL = soil_SPP_SOL['POROS'].unique()[0]


pl = pv.Plotter(notebook=True)
cplt.show_vtk(unit="pressure", 
              timeStep=0, 
              path=simu_solution.workdir + "/weill_dataset/vtk/",
              ax=pl,
              )
pl.show()


simu_solution.workdir





simuWithDA = DA(
                        dirName='./DA_ERT',
                        prj_name= 'Weill_example_withDA',
                        notebook=True,
                    )
simuWithoutDA = DA(
                        dirName='./DA_ERT',
                        prj_name= 'Weill_example_withoutDA',
                        notebook=True,
                    )


results_withDA = simuWithDA.load_pickle_backup()
results_withoutDA = simuWithoutDA.load_pickle_backup()


observations = dictObs_2pd(results_withDA['dict_obs'])
observations.xs('ERT',0).iloc[0]['elecs']


test = results_withDA['df_DA'].set_index(['time','Ensemble_nb'])


test.xs(( 1.0,  0.0))['psi_bef_update']


observations.xs('ERT',0).iloc[0]['data'].head()


nodes_of_interest = [[220], [1984], [3307]]


meshCiPG_PGref = pv.read('./solution_ERT/meshCi.vtk')
meshLiPG_PGref = pv.read('./solution_ERT/meshLi.vtk')

yshift = 8
xshift = 8

(meshCiPG, meshLiPG) = utils.define_mesh_transformations(meshCiPG_PGref,
                                                          meshLiPG_PGref,
                                                          idC=yshift, 
                                                          idL=xshift,
                                                        )
pt1, _ = simu_solution.find_nearest_node([0,yshift,meshLiPG.points[:,2].max()])
pt2, _ = simu_solution.find_nearest_node([5,yshift,meshLiPG.points[:,2].max()])
pt3, _ = simu_solution.find_nearest_node([10,yshift,meshLiPG.points[:,2].max()])
#nodes_of_interest = [pt1,pt2,pt3]
#nodes_of_interest


pl = pv.Plotter(notebook=True)

mesh = pv.read(os.path.join(simu_solution.workdir,
                            simu_solution.project_name,
                                'vtk/100.vtk',
                               )
       )

pl.add_mesh(mesh,
           opacity=0.2,
           style="wireframe",
           )

for nn in nodes_of_interest:
    pl.add_points(mesh.points[nn],
                  color='red',
                  render_points_as_spheres=True,
                  point_size=10
                  )
pl.show()


df_sw, sw_times = simu_solution.read_outputs('sw')

fig, ax = plt.subplots()
for nn in nodeIds:
    ax.plot(df_sw.index,
            df_sw[nn],
            label=nn
            )
ax.set_xlabel('Time (s)')
ax.set_ylabel('Saturation (-)')
plt.legend()



assimilation_times = observations.index.get_level_values(1).unique().to_list()
assimilation_times





parm_df = pd.DataFrame.from_dict(results_withDA['dict_parm_pert'],
                                 orient='index').T
parm_df


fig, ax = plt.subplots()
ax.hist(parm_df['ic']['ini_perturbation'])


#fig, ax = plt.subplots()
#ax.hist(parm_df['ZROOT']['ini_perturbation'])


#obs2plot = observations.xs('swc',level=0)
obs2plot = observations
obs2plot['saturation'] = obs2plot['data']/POROS_SOL


unique_times = results_withDA['df_DA']["time"].unique()
results_withDA['df_DA']["assimilation_times"] = results_withDA['df_DA']["time"].map(dict(zip(unique_times, 
                                                                               assimilation_times))
                                                                     )


fig, axs = plt.subplots(1,3,figsize=(15,4),
                       sharey=True
                       )
for axi, NOI in zip(axs, nodes_of_interest):
    cplt.DA_plot_time_dynamic(results_withDA['df_DA'],
                              'sw',
                              NOI,
                              ax=axi,
                              keytime='assimilation_times',
                              )  
    axi.plot(sw_SOL.index,
            sw_SOL.iloc[:,NOI],
            color='r',
            marker= '.'
            )


unique_times = results_withoutDA['df_DA']["time"].unique() -1
results_withoutDA['df_DA']["assimilation_times"] = results_withoutDA['df_DA']["time"].map(dict(zip(unique_times, 
                                                                               assimilation_times))
                                                                     )


fig, axs = plt.subplots(1,3,figsize=(15,3),
                       sharey=True
                       )
for axi, NOI in zip(axs, nodes_of_interest):
    cplt.DA_plot_time_dynamic(results_withoutDA['df_DA'],
                              'sw',
                              NOI,
                              ax=axi,
                              keytime='assimilation_times',
                              )  
    axi.plot(sw_SOL.index,
            sw_SOL.iloc[:,NOI],
            color='r',
            marker= '.'
            )





fig, ax = plt.subplots(2,figsize=[11,4])
cplt.DA_RMS(results_withDA['df_performance'],'ERT',ax=ax)





fig, axs = plt.subplots(2,1,figsize=[11,4],
                        # sharex=True
                        )
cplt.DA_plot_parm_dynamic_scatter(parm = 'ZROOT', 
                                  dict_parm_pert=results['dict_parm_pert'], 
                                  list_assimilation_times = assimilation_times,
                                  ax=axs[0],
                                          )   
axs[0].plot(np.linspace(1,len(assimilation_times), len(assimilation_times)),
            [POROS_SOL]*len(assimilation_times))

