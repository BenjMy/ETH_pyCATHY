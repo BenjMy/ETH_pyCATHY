





import pyCATHY
from pyCATHY import cathy_tools
from pyCATHY.DA.cathy_DA import DA, dictObs_2pd
from pyCATHY.DA.perturbate import perturbate_parm
from pyCATHY.DA import perturbate
from pyCATHY.DA.observations import read_observations, prepare_observations, make_data_cov
from pyCATHY.DA import performance
import pyvista as pv
import pyCATHY.plotters.cathy_plots as cplt 
import os 
import numpy as np
import matplotlib.pyplot as plt
import matplotlib as mpl
# set some default plotting parameters for nicer looking plots
mpl.rcParams.update({"axes.grid":True, 
                     "grid.color":"gray", 
                     "grid.linestyle":'--',
                     'figure.figsize':(6,6)}
                   )
import pandas as pd
import utils


import pygimli as pg 
from pygimli.physics import ert








simu_solution = cathy_tools.CATHY(
                                    dirName='./solution_ERT',
                                    prj_name= 'weill_dataset',
                                    notebook=True,
                                  )
sw_SOL, sw_SOL_times = simu_solution.read_outputs('sw')
psi_SOL = simu_solution.read_outputs('psi')

rootMap, rootMap_hd = simu_solution.read_inputs('root_map')

soil_SPP_SOL, soil_FP_SOL = simu_solution.read_inputs('soil',
                                                         MAXVEG=int(np.max(rootMap)),
                                                    )
PERMX_SOL = soil_SPP_SOL['PERMX'].unique()[0]
POROS_SOL = soil_SPP_SOL['POROS'].unique()[0]


pl = pv.Plotter(shape=(2, 2))
axis_pl = [(0,0),(0,1),(1,0),(1,1)]
for i, j in enumerate([0,2,5,10]):
    mesh = pv.read(os.path.join(simu_solution.workdir,
                                'solution_ERTsaturation_nearIntrp2_pg_msh' + str(j) + '.vtk',
                                )
    
           )
    pl.subplot(axis_pl[i][0],axis_pl[i][1])
    pl.add_mesh(mesh,
               scalars='saturation_nearIntrp2_pg_msh',
                lighting=False,
                cmap="jet_r"
               )
    pl.view_xz()
pl.show()











simuWithDA = DA(
                        dirName='./DA_ERT',
                        prj_name= 'Weill_example_withDA',
                        notebook=True,
                    )
simuWithoutDA = DA(
                        dirName='./DA_ERT',
                        prj_name= 'Weill_example_withoutDA',
                        notebook=True,
                    )


results_withDA = simuWithDA.load_pickle_backup()
results_withoutDA = simuWithoutDA.load_pickle_backup()


observations = dictObs_2pd(results_withDA['dict_obs'])
observations.xs('ERT',0).iloc[0]['elecs']


results_withDA.keys()


Archie = results_withDA['Archie']
Archie_ER = Archie.set_index(['time','ens_nbi'])
Archie_ER


Archie.time.unique()


meanArchie = Archie.groupby('time')['ER_converted'].mean()
minArchie = Archie.groupby('time')['ER_converted'].min()
maxArchie = Archie.groupby('time')['ER_converted'].max()
minArchie


fig, ax = plt.subplots()
minArchie.plot(ax=ax)
maxArchie.plot(ax=ax)
meanArchie.plot(ax=ax)
ax.set_xlabel('# Assimilation')
ax.set_ylabel('ER converted')










