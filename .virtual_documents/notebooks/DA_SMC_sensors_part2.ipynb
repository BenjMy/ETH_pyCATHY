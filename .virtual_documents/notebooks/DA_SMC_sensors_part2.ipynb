





import pyCATHY
from pyCATHY import cathy_tools
from pyCATHY.DA.cathy_DA import DA, dictObs_2pd
from pyCATHY.DA.perturbate import perturbate_parm
from pyCATHY.DA import perturbate
from pyCATHY.DA.observations import read_observations, prepare_observations, make_data_cov
from pyCATHY.DA import performance
import pyvista as pv
import pyCATHY.plotters.cathy_plots as cplt 
import os 
import numpy as np
import matplotlib.pyplot as plt
import matplotlib as mpl
# set some default plotting parameters for nicer looking plots
mpl.rcParams.update({"axes.grid":True, 
                     "grid.color":"gray", 
                     "grid.linestyle":'--',
                     'figure.figsize':(6,6)}
                   )
import pandas as pd








simu_solution = cathy_tools.CATHY(
                                    dirName='./solution_SMC',
                                    prj_name= 'weill_dataset',
                                    notebook=True,
                                  )
sw_SOL, sw_SOL_times = simu_solution.read_outputs('sw')
psi_SOL = simu_solution.read_outputs('psi')

rootMap, rootMap_hd = simu_solution.read_inputs('root_map')

soil_SPP_SOL, soil_FP_SOL = simu_solution.read_inputs('soil',
                                                         MAXVEG=int(np.max(rootMap)),
                                                    )
PERMX_SOL = soil_SPP_SOL['PERMX'].unique()[0]
POROS_SOL = soil_SPP_SOL['POROS'].unique()[0]


pl = pv.Plotter(notebook=True)
cplt.show_vtk(unit="pressure", 
              timeStep=5, 
              path=simu_solution.workdir + "/weill_dataset/vtk/",
              ax=pl,
              )
pl.show()





simuWithDA = DA(
                        dirName='./DA_SMC',
                        prj_name= 'Weill_example_withDA',
                        notebook=True,
                    )
simuWithoutDA = DA(
                        dirName='./DA_SMC',
                        prj_name= 'Weill_example_withoutDA',
                        notebook=True,
                    )


results_withDA = simuWithDA.load_pickle_backup()
results_withoutDA = simuWithoutDA.load_pickle_backup()


observations = dictObs_2pd(results_withDA['dict_obs'])


fig, ax = plt.subplots()
observations.xs('swc',level=0).plot(y='data',ax=ax,label='swc')
observations.xs('swc1',level=0).plot(y='data',ax=ax,label='swc1')
observations.xs('swc2',level=0).plot(y='data',ax=ax)
#observations.xs('swc3',level=0).plot(y='data',ax=ax)


assimilation_times = observations.index.get_level_values(1).unique().to_list()


nodes_of_interest = observations.mesh_nodes
nodes_of_interest = list(np.hstack(np.unique(nodes_of_interest)))
nodes_of_interest


#nodes_of_interest_pos
#sensors_pos = infiltration_util.get_sensors_pos()





parm_df = pd.DataFrame.from_dict(results_withDA['dict_parm_pert'],
                                 orient='index').T


fig, ax = plt.subplots()
ax.hist(parm_df['ic']['ini_perturbation'])


#obs2plot = observations.xs('swc',level=0)
obs2plot = observations
obs2plot['saturation'] = obs2plot['data']/POROS_SOL


unique_times = results_withDA['df_DA']["time"].unique() -1
results_withDA['df_DA']["assimilation_times"] = results_withDA['df_DA']["time"].map(dict(zip(unique_times, 
                                                                               assimilation_times))
                                                                     )


fig, axs = plt.subplots(1,3,figsize=(15,4),
                       sharey=True
                       )
for axi, NOI in zip(axs, nodes_of_interest):
    cplt.DA_plot_time_dynamic(results_withDA['df_DA'],
                              'sw',
                              NOI,
                              ax=axi,
                              keytime='assimilation_times',
                              )  
    axi.plot(sw_SOL_times,
            sw_SOL[:,NOI],
            color='r',
            marker= '.'
            )
    
    
observations.xs('swc',level=0).plot(y='saturation',ax=axs[0],label='swc')
observations.xs('swc1',level=0).plot(y='saturation',ax=axs[1],label='swc1')
observations.xs('swc2',level=0).plot(y='saturation',ax=axs[2])




unique_times = results_withoutDA['df_DA']["time"].unique() -1
results_withoutDA['df_DA']["assimilation_times"] = results_withoutDA['df_DA']["time"].map(dict(zip(unique_times, 
                                                                               assimilation_times))
                                                                     )


fig, axs = plt.subplots(1,3,figsize=(15,3),
                       sharey=True
                       )
for axi, NOI in zip(axs, nodes_of_interest):
    cplt.DA_plot_time_dynamic(results_withoutDA['df_DA'],
                              'sw',
                              NOI,
                              ax=axi,
                              keytime='assimilation_times',
                              )  
    axi.plot(sw_SOL_times,
            sw_SOL[:,NOI],
            color='r',
            marker= '.'
            )
    
    
observations.xs('swc',level=0).plot(y='saturation',ax=axs[0],label='swc')
observations.xs('swc1',level=0).plot(y='saturation',ax=axs[1],label='swc1')
observations.xs('swc2',level=0).plot(y='saturation',ax=axs[2])






fig, ax = plt.subplots(2,figsize=[11,4])
cplt.DA_RMS(results_withDA['df_performance'],'swc',ax=ax)
cplt.DA_RMS(results_withDA['df_performance'],'swc1',ax=ax)
cplt.DA_RMS(results_withDA['df_performance'],'swc2',ax=ax)





fig, axs = plt.subplots(2,1,figsize=[11,4],
                        # sharex=True
                        )
cplt.DA_plot_parm_dynamic_scatter(parm = 'ZROOT', 
                                  dict_parm_pert=results['dict_parm_pert'], 
                                  list_assimilation_times = assimilation_times,
                                  ax=axs[0],
                                          )   
axs[0].plot(np.linspace(1,len(assimilation_times), len(assimilation_times)),
            [POROS_SOL]*len(assimilation_times))

