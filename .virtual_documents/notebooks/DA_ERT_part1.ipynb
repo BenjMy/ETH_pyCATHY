





import pyCATHY
from pyCATHY import cathy_tools
import pygimli as pg





from pyCATHY.DA.cathy_DA import DA, dictObs_2pd
from pyCATHY.DA.perturbate import perturbate_parm
from pyCATHY.DA import perturbate
from pyCATHY.DA.observations import read_observations, prepare_observations, make_data_cov
from pyCATHY.DA import performance
import pyvista as pv
import pyCATHY.plotters.cathy_plots as cplt 
import os 
import numpy as np
import matplotlib.pyplot as plt
import matplotlib as mpl
# set some default plotting parameters for nicer looking plots
mpl.rcParams.update({"axes.grid":True, 
                     "grid.color":"gray", 
                     "grid.linestyle":'--',
                     'figure.figsize':(10,10)}
                   )
import pandas as pd








# Create a CATHY project
# -----------------------
simuWithDA = DA(
                        dirName='./DA_SMC',
                        prj_name= 'Weill_example_ERT_DA', # without DA means that the level of noise set to data covariance is infinite (open loop run); 
                        #prj_name= 'Weill_example_withDA', 
                        notebook=True,
                    )





# Create a CATHY project
# -----------------------
simu_solution = cathy_tools.CATHY(
                                    dirName='./solution_ERT',
                                    prj_name= 'weill_dataset',
                                    notebook=True,
                                  )


simu_solution.run_preprocessor()
simu_solution.run_processor(IPRT1=3)


simu_solution.create_mesh_vtk()


import pyvista as pv
meshpath = os.path.join(simu_solution.workdir,
                        simu_solution.project_name,
                        'vtk',
                        simu_solution.project_name + '.vtk'
                       )
meshCATHY = pv.read(meshpath)

pl = pv.Plotter()
pl.add_mesh(meshCATHY)
pl.add_bounding_box()
pl.show_grid()
pl.show()
#meshCATHY.save("meshCATHY.stl", binary=True)


import pygimli as pg
from pygimli.physics import ert
import pygimli.meshtools as mt
#!pip install meshio
import meshio


meshpg = mt.readMeshIO(meshpath)
mt.createPolygon?


layer1 = mt.createPolygon([[0.0, -2], [0, 1], [10, 0.7], [10, -2]],
                          isClosed=True, marker=1, area=1)
geom = layer1

pg.show(geom)

mesh = mt.createMesh(geom, quality=34.3, area=3, smooth=[1, 10])
#ax, _ = pg.show(mesh)

mesh.exportVTK('meshPG.vtk')
meshPG = pv.read('meshPG.vtk')



meshPG_new = meshPG.copy()
points = meshPG_new.points.copy()
transform_matrix = np.array([[1, 0, 0], [0, 0, 1], [0, 1, 0]])

# Apply the transformation to the points
transformed_points = np.dot(points, transform_matrix.T)
transformed_points[:,1] = 5
meshPG_new.points = transformed_points



pl = pv.Plotter()
pl.add_mesh(meshPG_new)
pl.add_mesh(meshCATHY,opacity=0.5)
pl.show_grid()
pl.show()


scheme = ert.createData(elecs=np.linspace(start=0, stop=10, num=21),
                           schemeName='dd')


rhomap = [[1, 100.],
          ]


data = ert.simulate(mesh, scheme=scheme, res=rhomap, noiseLevel=1,
                    noiseAbs=1e-6, seed=1337)








simu_solution.run_preprocessor()


simu_solution.run_processor(IPRT1=3)


netValue = -1e-7
rain = 4e-7
tatmbc = list(np.linspace(0,86400,10))

netValue_list = [netValue]*len(tatmbc)
netValue_list[0] = netValue + rain
netValue_list[1] = netValue + rain


simu_solution.update_atmbc(
                            HSPATM=1,
                            IETO=0,
                            time=tatmbc,
                            # VALUE=[None, None],
                            netValue=netValue_list,
                    )

simu_solution.update_ic(INDP=0,IPOND=0,
                        pressure_head_ini=-1,
                        )


simu_solution.update_parm(TIMPRTi=tatmbc)
simu_solution.update_soil(PMIN=-1e25)


simu_solution.run_preprocessor()
simu_solution.run_processor(IPRT1=2,
                            TRAFLAG=0,
                            VTKF=2,
                           )





import pyCATHY.meshtools as cathy_meshtools


ERT_meta_dict={
                'forward_mesh_vtk_file': 'meshPG.vtk',
}



cathy_meshtools.CATHY_2_pg(meshCATHY,
                           ERT_meta_dict,
                          )
